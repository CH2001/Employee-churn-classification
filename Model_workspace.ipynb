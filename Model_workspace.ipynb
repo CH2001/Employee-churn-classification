{
 "cells": [
  {
   "cell_type": "markdown",
   "id": "94a9687d-6d39-4edf-9688-f59bda676dee",
   "metadata": {},
   "source": [
    "### Import data & packages"
   ]
  },
  {
   "cell_type": "code",
   "execution_count": 1,
   "id": "e202f38e-db9a-4cfb-bac8-1987e0ae35a4",
   "metadata": {},
   "outputs": [],
   "source": [
    "# Import packages\n",
    "import time\n",
    "import numpy as np\n",
    "import pandas as pd\n",
    "from sklearn.metrics import f1_score\n",
    "from sklearn.linear_model import LogisticRegression, RidgeClassifier\n",
    "from sklearn.ensemble import RandomForestClassifier\n",
    "from sklearn.tree import DecisionTreeClassifier\n",
    "from xgboost import XGBClassifier\n",
    "from sklearn.neural_network import MLPClassifier\n",
    "from skopt import BayesSearchCV\n",
    "from sklearn.feature_extraction import DictVectorizer\n",
    "from sklearn.model_selection import train_test_split\n",
    "import xgboost as xgb\n",
    "from boruta import BorutaPy\n",
    "import joblib\n",
    "import matplotlib.pyplot as plt\n",
    "import seaborn as sns"
   ]
  },
  {
   "cell_type": "code",
   "execution_count": 2,
   "id": "14349756-4a91-4025-80ba-fdbb86f9996b",
   "metadata": {},
   "outputs": [
    {
     "data": {
      "text/html": [
       "<div>\n",
       "<style scoped>\n",
       "    .dataframe tbody tr th:only-of-type {\n",
       "        vertical-align: middle;\n",
       "    }\n",
       "\n",
       "    .dataframe tbody tr th {\n",
       "        vertical-align: top;\n",
       "    }\n",
       "\n",
       "    .dataframe thead th {\n",
       "        text-align: right;\n",
       "    }\n",
       "</style>\n",
       "<table border=\"1\" class=\"dataframe\">\n",
       "  <thead>\n",
       "    <tr style=\"text-align: right;\">\n",
       "      <th></th>\n",
       "      <th>Education</th>\n",
       "      <th>JoiningYear</th>\n",
       "      <th>City</th>\n",
       "      <th>PaymentTier</th>\n",
       "      <th>Age</th>\n",
       "      <th>Gender</th>\n",
       "      <th>EverBenched</th>\n",
       "      <th>ExperienceInCurrentDomain</th>\n",
       "      <th>LeaveOrNot</th>\n",
       "    </tr>\n",
       "  </thead>\n",
       "  <tbody>\n",
       "    <tr>\n",
       "      <th>0</th>\n",
       "      <td>Bachelors</td>\n",
       "      <td>2017</td>\n",
       "      <td>Bangalore</td>\n",
       "      <td>3</td>\n",
       "      <td>34</td>\n",
       "      <td>Male</td>\n",
       "      <td>No</td>\n",
       "      <td>0</td>\n",
       "      <td>0</td>\n",
       "    </tr>\n",
       "    <tr>\n",
       "      <th>1</th>\n",
       "      <td>Bachelors</td>\n",
       "      <td>2013</td>\n",
       "      <td>Pune</td>\n",
       "      <td>1</td>\n",
       "      <td>28</td>\n",
       "      <td>Female</td>\n",
       "      <td>No</td>\n",
       "      <td>3</td>\n",
       "      <td>1</td>\n",
       "    </tr>\n",
       "    <tr>\n",
       "      <th>2</th>\n",
       "      <td>Bachelors</td>\n",
       "      <td>2014</td>\n",
       "      <td>New Delhi</td>\n",
       "      <td>3</td>\n",
       "      <td>38</td>\n",
       "      <td>Female</td>\n",
       "      <td>No</td>\n",
       "      <td>2</td>\n",
       "      <td>0</td>\n",
       "    </tr>\n",
       "    <tr>\n",
       "      <th>3</th>\n",
       "      <td>Masters</td>\n",
       "      <td>2016</td>\n",
       "      <td>Bangalore</td>\n",
       "      <td>3</td>\n",
       "      <td>27</td>\n",
       "      <td>Male</td>\n",
       "      <td>No</td>\n",
       "      <td>5</td>\n",
       "      <td>1</td>\n",
       "    </tr>\n",
       "    <tr>\n",
       "      <th>4</th>\n",
       "      <td>Masters</td>\n",
       "      <td>2017</td>\n",
       "      <td>Pune</td>\n",
       "      <td>3</td>\n",
       "      <td>24</td>\n",
       "      <td>Male</td>\n",
       "      <td>Yes</td>\n",
       "      <td>2</td>\n",
       "      <td>1</td>\n",
       "    </tr>\n",
       "  </tbody>\n",
       "</table>\n",
       "</div>"
      ],
      "text/plain": [
       "   Education  JoiningYear       City  PaymentTier  Age  Gender EverBenched   \n",
       "0  Bachelors         2017  Bangalore            3   34    Male          No  \\\n",
       "1  Bachelors         2013       Pune            1   28  Female          No   \n",
       "2  Bachelors         2014  New Delhi            3   38  Female          No   \n",
       "3    Masters         2016  Bangalore            3   27    Male          No   \n",
       "4    Masters         2017       Pune            3   24    Male         Yes   \n",
       "\n",
       "   ExperienceInCurrentDomain  LeaveOrNot  \n",
       "0                          0           0  \n",
       "1                          3           1  \n",
       "2                          2           0  \n",
       "3                          5           1  \n",
       "4                          2           1  "
      ]
     },
     "execution_count": 2,
     "metadata": {},
     "output_type": "execute_result"
    }
   ],
   "source": [
    "# Import data\n",
    "df = pd.read_csv('Employee.csv')\n",
    "df.head(5)"
   ]
  },
  {
   "cell_type": "markdown",
   "id": "2886feba-aab0-4456-a94b-2da993adf33b",
   "metadata": {},
   "source": [
    "### Exploratory data analysis"
   ]
  },
  {
   "cell_type": "code",
   "execution_count": 3,
   "id": "eacd26d8-77b5-4ad1-81bc-d12b195838f1",
   "metadata": {},
   "outputs": [],
   "source": [
    "# Seperate categorical & numeric data\n",
    "data_cols_numeric = df.select_dtypes([np.int64, np.float64]).columns\n",
    "data_cols_character = df.select_dtypes(include=['object']).columns"
   ]
  },
  {
   "cell_type": "code",
   "execution_count": 4,
   "id": "ef656c46-7573-4bf7-881b-5eb6331d58a4",
   "metadata": {},
   "outputs": [
    {
     "data": {
      "image/png": "[encoded data removed]",
      "text/plain": [
       "<Figure size 432x288 with 1 Axes>"
      ]
     },
     "metadata": {
      "needs_background": "light"
     },
     "output_type": "display_data"
    },
    {
     "data": {
      "image/png": "[encoded data removed]",
      "text/plain": [
       "<Figure size 432x288 with 1 Axes>"
      ]
     },
     "metadata": {
      "needs_background": "light"
     },
     "output_type": "display_data"
    },
    {
     "data": {
      "image/png": "[encoded data removed]",
      "text/plain": [
       "<Figure size 432x288 with 1 Axes>"
      ]
     },
     "metadata": {
      "needs_background": "light"
     },
     "output_type": "display_data"
    },
    {
     "data": {
      "image/png": "[encoded data removed]",
      "text/plain": [
       "<Figure size 432x288 with 1 Axes>"
      ]
     },
     "metadata": {
      "needs_background": "light"
     },
     "output_type": "display_data"
    },
    {
     "data": {
      "image/png": "[encoded data removed]",
      "text/plain": [
       "<Figure size 432x288 with 1 Axes>"
      ]
     },
     "metadata": {
      "needs_background": "light"
     },
     "output_type": "display_data"
    }
   ],
   "source": [
    "# Visualize all numeric columns \n",
    "for col in data_cols_numeric:\n",
    "    df[col].plot.hist(title=col, color=\"#7cc5de\")\n",
    "    plt.show()"
   ]
  },
  {
   "cell_type": "code",
   "execution_count": 5,
   "id": "a958138c-6f9b-464d-aaa3-6d7b4f96a0a2",
   "metadata": {},
   "outputs": [
    {
     "data": {
      "image/png": "[encoded data removed]",
      "text/plain": [
       "<Figure size 432x288 with 2 Axes>"
      ]
     },
     "metadata": {
      "needs_background": "light"
     },
     "output_type": "display_data"
    }
   ],
   "source": [
    "# Correlation plot\n",
    "fig, ax = plt.subplots()    \n",
    "sns.heatmap(df[data_cols_numeric].corr(), annot=True, ax=ax);\n",
    "plt.title(\"Heatmap for all variables\"); "
   ]
  },
  {
   "cell_type": "code",
   "execution_count": 6,
   "id": "fea48bc7-9073-41d0-9c86-21ac65ec27da",
   "metadata": {},
   "outputs": [
    {
     "data": {
      "image/png": "[encoded data removed]",
      "text/plain": [
       "<Figure size 432x288 with 1 Axes>"
      ]
     },
     "metadata": {
      "needs_background": "light"
     },
     "output_type": "display_data"
    }
   ],
   "source": [
    "# Distribution of cities for employees that churn or do not churn \n",
    "\n",
    "plt1 = sns.countplot(x='LeaveOrNot', \n",
    "                     hue='City',\n",
    "                     data=df,\n",
    "                     palette=\"Spectral\")\n",
    "\n",
    "for i in plt1.containers:\n",
    "    plt1.bar_label(i,size=8)"
   ]
  },
  {
   "cell_type": "code",
   "execution_count": 7,
   "id": "f0a991ca-02ef-48c2-9ed5-5cce84cb8149",
   "metadata": {},
   "outputs": [
    {
     "data": {
      "image/png": "[encoded data removed]",
      "text/plain": [
       "<Figure size 432x288 with 1 Axes>"
      ]
     },
     "metadata": {
      "needs_background": "light"
     },
     "output_type": "display_data"
    }
   ],
   "source": [
    "# Distribution of gender for employees that churn or do not churn\n",
    "\n",
    "plt2 = sns.countplot(x='LeaveOrNot', \n",
    "                     hue='Gender',\n",
    "                     data=df,\n",
    "                     palette=\"Spectral\")\n",
    "\n",
    "for i in plt2.containers:\n",
    "    plt2.bar_label(i,size=8)"
   ]
  },
  {
   "cell_type": "code",
   "execution_count": 8,
   "id": "3f89031a-6890-4410-8c92-98a82c780577",
   "metadata": {},
   "outputs": [
    {
     "data": {
      "image/png": "[encoded data removed]",
      "text/plain": [
       "<Figure size 432x288 with 1 Axes>"
      ]
     },
     "metadata": {
      "needs_background": "light"
     },
     "output_type": "display_data"
    }
   ],
   "source": [
    "# Distribution of education for employees that churn or do not churn\n",
    "\n",
    "plt3 = sns.countplot(x='LeaveOrNot', \n",
    "                     hue='Education',\n",
    "                     data=df,\n",
    "                     palette=\"Spectral\")\n",
    "\n",
    "for i in plt3.containers:\n",
    "    plt3.bar_label(i,size=8)"
   ]
  },
  {
   "cell_type": "markdown",
   "id": "22baa14e-2333-49e9-8285-3d2ac32a260c",
   "metadata": {},
   "source": [
    "Findings: \n",
    "- More female employees churn than male employees\n",
    "- JoiningYear is positively correlated with LeaveOrNot while PaymentTier, Age and ExperienceInCurrentDomain is negatively correlated "
   ]
  },
  {
   "cell_type": "markdown",
   "id": "19cd3645-3395-4fb3-9b27-c92dcae76e5f",
   "metadata": {},
   "source": [
    "### Model training"
   ]
  },
  {
   "cell_type": "code",
   "execution_count": 9,
   "id": "84dce14d-aabc-40f0-ab6f-9a575ab5a8ea",
   "metadata": {},
   "outputs": [],
   "source": [
    "# Train, test, validation data split\n",
    "df_staging, df_test = train_test_split(df, test_size=0.2, random_state=1)\n",
    "df_train, df_val = train_test_split(df_staging, test_size=0.25, random_state=1)\n",
    "\n",
    "X_train_staging = df_train.loc[:, df_train.columns[1:-1]].copy()\n",
    "X_val_staging = df_val.loc[:, df_val.columns[1:-1]].copy()\n",
    "X_test_staging = df_test.loc[:, df_test.columns[1:-1]].copy()\n",
    "\n",
    "y_train = df_train.loc[:, 'LeaveOrNot']\n",
    "y_val = df_val.loc[:, 'LeaveOrNot']\n",
    "y_test = df_test.loc[:, 'LeaveOrNot']"
   ]
  },
  {
   "cell_type": "code",
   "execution_count": 10,
   "id": "e7766368-912c-4979-860c-65ac7fea88c6",
   "metadata": {},
   "outputs": [],
   "source": [
    "# Encode categorical variables\n",
    "dv = DictVectorizer(sparse=False)\n",
    "X_train = pd.DataFrame(dv.fit_transform(X_train_staging.to_dict(orient='records')), columns=dv.get_feature_names_out())\n",
    "X_val = pd.DataFrame(dv.fit_transform(X_val_staging.to_dict(orient='records')), columns=dv.get_feature_names_out())\n",
    "X_test = pd.DataFrame(dv.fit_transform(X_test_staging.to_dict(orient='records')), columns=dv.get_feature_names_out())"
   ]
  },
  {
   "cell_type": "code",
   "execution_count": 11,
   "id": "6912592f-bf15-4d57-bb53-1dabe08bcb4d",
   "metadata": {},
   "outputs": [
    {
     "name": "stdout",
     "output_type": "stream",
     "text": [
      "Selected features: ['City=Pune', 'EverBenched=No', 'Gender=Female', 'JoiningYear', 'PaymentTier']\n"
     ]
    }
   ],
   "source": [
    "# Boruta feature selection using XGB model \n",
    "xgb = XGBClassifier()\n",
    "\n",
    "boruta = BorutaPy(xgb, n_estimators='auto', random_state=1)\n",
    "boruta.fit(np.array(X_train), np.array(y_train))\n",
    "\n",
    "selected_features = X_train.columns[boruta.support_].tolist()\n",
    "print(f\"Selected features: {selected_features}\")"
   ]
  },
  {
   "cell_type": "code",
   "execution_count": 12,
   "id": "2ba6b0d7-3726-4ec4-8180-316f7dfb98ac",
   "metadata": {},
   "outputs": [
    {
     "name": "stderr",
     "output_type": "stream",
     "text": [
      "C:\\Users\\chunh\\anaconda3\\lib\\site-packages\\skopt\\optimizer\\optimizer.py:449: UserWarning: The objective has been evaluated at this point before.\n",
      "  warnings.warn(\"The objective has been evaluated \"\n",
      "C:\\Users\\chunh\\anaconda3\\lib\\site-packages\\skopt\\optimizer\\optimizer.py:449: UserWarning: The objective has been evaluated at this point before.\n",
      "  warnings.warn(\"The objective has been evaluated \"\n"
     ]
    }
   ],
   "source": [
    "results = {\n",
    "    'Model': [],\n",
    "    'Feature Selection': [],\n",
    "    'F1 Score': [],\n",
    "    'Percentage diff (%)': [],\n",
    "    'Time Taken (s)': [],\n",
    "    'Best Hyperparameters': []\n",
    "}\n",
    "\n",
    "# ML models & their hyperparameters\n",
    "models = [\n",
    "    ('Logistic Regression', LogisticRegression(max_iter=10000), {'C': (0.01, 100.0, 'log-uniform'), 'random_state': [1, 42, 100, 256, 512]}),\n",
    "    ('Ridge Classifier', RidgeClassifier(), {'alpha': (0.01, 100.0, 'log-uniform'), 'random_state': [1, 42, 100, 256, 512]}),\n",
    "    ('Random Forest Classifier', RandomForestClassifier(), {'n_estimators': (10, 200), 'random_state': [1, 42, 100, 256, 512]}),\n",
    "    ('Decision Tree Classifier', DecisionTreeClassifier(), {'max_depth': (1, 32), 'random_state': [1, 42, 100, 256, 512]}),\n",
    "    ('XGBoost Classifier', XGBClassifier(verbosity=0), {'learning_rate': (0.01, 1.0, 'log-uniform'), 'n_estimators': (50, 200), 'random_state': [1, 42, 100, 256, 512]}),\n",
    "    ('Neural Network Classifier', MLPClassifier(max_iter=1000), {'alpha': (0.0001, 0.1, 'log-uniform'), 'random_state': [1, 42, 100, 256, 512]})\n",
    "]\n",
    "\n",
    "\n",
    "feature_selection_methods = ['Boruta Feature Selection', 'Full Features']\n",
    "\n",
    "# Train and tune the models \n",
    "for feature_selection_method in feature_selection_methods:\n",
    "    if feature_selection_method == 'Boruta Feature Selection':\n",
    "        selected_features = X_train.columns[boruta.support_].tolist()\n",
    "        X_train_ = X_train.loc[:, selected_features].copy()\n",
    "        X_test_ = X_test.loc[:, selected_features].copy()\n",
    "        X_val_ = X_val.loc[:, selected_features].copy()\n",
    "    else:\n",
    "        X_train_ = X_train.copy()\n",
    "        X_test_ = X_test.copy()\n",
    "        X_val_ = X_val.copy()\n",
    "\n",
    "    for model_name, model, param_space in models:\n",
    "        start_time = time.time()\n",
    "\n",
    "        bayes_search = BayesSearchCV(model, param_space, n_iter=20, n_jobs=-1, cv=3, scoring='f1_weighted', random_state=1)\n",
    "        bayes_search.fit(X_train_, y_train)\n",
    "\n",
    "        train_time = time.time() - start_time\n",
    "\n",
    "        y_pred = bayes_search.predict(X_test_)\n",
    "        y_pred_val = bayes_search.predict(X_val_)\n",
    "        f1 = f1_score(y_test, y_pred, average='weighted')\n",
    "        f1_val = f1_score(y_val, y_pred_val, average='weighted')\n",
    "        train_val_diff_f1 = round((f1_val - f1) * 100, 2)\n",
    "\n",
    "        results['Model'].append(model_name)\n",
    "        results['Feature Selection'].append(feature_selection_method)\n",
    "        results['F1 Score'].append(f1)\n",
    "        results['Percentage diff (%)'].append(train_val_diff_f1)\n",
    "        results['Time Taken (s)'].append(train_time)\n",
    "        results['Best Hyperparameters'].append(bayes_search.best_params_)\n"
   ]
  },
  {
   "cell_type": "code",
   "execution_count": 13,
   "id": "2a375d64-91ba-4d96-8fe8-4e0d99b0305f",
   "metadata": {},
   "outputs": [
    {
     "data": {
      "text/html": [
       "<div>\n",
       "<style scoped>\n",
       "    .dataframe tbody tr th:only-of-type {\n",
       "        vertical-align: middle;\n",
       "    }\n",
       "\n",
       "    .dataframe tbody tr th {\n",
       "        vertical-align: top;\n",
       "    }\n",
       "\n",
       "    .dataframe thead th {\n",
       "        text-align: right;\n",
       "    }\n",
       "</style>\n",
       "<table border=\"1\" class=\"dataframe\">\n",
       "  <thead>\n",
       "    <tr style=\"text-align: right;\">\n",
       "      <th></th>\n",
       "      <th>Model</th>\n",
       "      <th>Feature Selection</th>\n",
       "      <th>F1 Score</th>\n",
       "      <th>Percentage diff (%)</th>\n",
       "      <th>Time Taken (s)</th>\n",
       "      <th>Best Hyperparameters</th>\n",
       "    </tr>\n",
       "  </thead>\n",
       "  <tbody>\n",
       "    <tr>\n",
       "      <th>5</th>\n",
       "      <td>Neural Network Classifier</td>\n",
       "      <td>Boruta Feature Selection</td>\n",
       "      <td>0.200386</td>\n",
       "      <td>-4.06</td>\n",
       "      <td>11.725361</td>\n",
       "      <td>{'alpha': 0.012821386062062406, 'random_state'...</td>\n",
       "    </tr>\n",
       "    <tr>\n",
       "      <th>11</th>\n",
       "      <td>Neural Network Classifier</td>\n",
       "      <td>Full Features</td>\n",
       "      <td>0.666635</td>\n",
       "      <td>3.74</td>\n",
       "      <td>12.253017</td>\n",
       "      <td>{'alpha': 0.0009260248057520602, 'random_state...</td>\n",
       "    </tr>\n",
       "    <tr>\n",
       "      <th>1</th>\n",
       "      <td>Ridge Classifier</td>\n",
       "      <td>Boruta Feature Selection</td>\n",
       "      <td>0.668311</td>\n",
       "      <td>2.39</td>\n",
       "      <td>6.342736</td>\n",
       "      <td>{'alpha': 3.970742395266713, 'random_state': 1}</td>\n",
       "    </tr>\n",
       "    <tr>\n",
       "      <th>0</th>\n",
       "      <td>Logistic Regression</td>\n",
       "      <td>Boruta Feature Selection</td>\n",
       "      <td>0.670963</td>\n",
       "      <td>2.60</td>\n",
       "      <td>10.476599</td>\n",
       "      <td>{'C': 74.17596170159602, 'random_state': 100}</td>\n",
       "    </tr>\n",
       "    <tr>\n",
       "      <th>6</th>\n",
       "      <td>Logistic Regression</td>\n",
       "      <td>Full Features</td>\n",
       "      <td>0.676038</td>\n",
       "      <td>3.30</td>\n",
       "      <td>7.506152</td>\n",
       "      <td>{'C': 9.117119119604657, 'random_state': 1}</td>\n",
       "    </tr>\n",
       "    <tr>\n",
       "      <th>7</th>\n",
       "      <td>Ridge Classifier</td>\n",
       "      <td>Full Features</td>\n",
       "      <td>0.681810</td>\n",
       "      <td>1.84</td>\n",
       "      <td>6.567730</td>\n",
       "      <td>{'alpha': 0.02923553521649806, 'random_state':...</td>\n",
       "    </tr>\n",
       "    <tr>\n",
       "      <th>8</th>\n",
       "      <td>Random Forest Classifier</td>\n",
       "      <td>Full Features</td>\n",
       "      <td>0.799145</td>\n",
       "      <td>-0.41</td>\n",
       "      <td>14.545199</td>\n",
       "      <td>{'n_estimators': 185, 'random_state': 512}</td>\n",
       "    </tr>\n",
       "    <tr>\n",
       "      <th>2</th>\n",
       "      <td>Random Forest Classifier</td>\n",
       "      <td>Boruta Feature Selection</td>\n",
       "      <td>0.810566</td>\n",
       "      <td>1.54</td>\n",
       "      <td>9.841571</td>\n",
       "      <td>{'n_estimators': 10, 'random_state': 512}</td>\n",
       "    </tr>\n",
       "    <tr>\n",
       "      <th>9</th>\n",
       "      <td>Decision Tree Classifier</td>\n",
       "      <td>Full Features</td>\n",
       "      <td>0.812721</td>\n",
       "      <td>2.09</td>\n",
       "      <td>7.726750</td>\n",
       "      <td>{'max_depth': 6, 'random_state': 512}</td>\n",
       "    </tr>\n",
       "    <tr>\n",
       "      <th>3</th>\n",
       "      <td>Decision Tree Classifier</td>\n",
       "      <td>Boruta Feature Selection</td>\n",
       "      <td>0.817867</td>\n",
       "      <td>1.91</td>\n",
       "      <td>6.491188</td>\n",
       "      <td>{'max_depth': 6, 'random_state': 256}</td>\n",
       "    </tr>\n",
       "    <tr>\n",
       "      <th>4</th>\n",
       "      <td>XGBoost Classifier</td>\n",
       "      <td>Boruta Feature Selection</td>\n",
       "      <td>0.818881</td>\n",
       "      <td>2.16</td>\n",
       "      <td>13.158018</td>\n",
       "      <td>{'learning_rate': 0.01709840203542368, 'n_esti...</td>\n",
       "    </tr>\n",
       "    <tr>\n",
       "      <th>10</th>\n",
       "      <td>XGBoost Classifier</td>\n",
       "      <td>Full Features</td>\n",
       "      <td>0.826861</td>\n",
       "      <td>1.44</td>\n",
       "      <td>12.195943</td>\n",
       "      <td>{'learning_rate': 0.01709840203542368, 'n_esti...</td>\n",
       "    </tr>\n",
       "  </tbody>\n",
       "</table>\n",
       "</div>"
      ],
      "text/plain": [
       "                        Model         Feature Selection  F1 Score   \n",
       "5   Neural Network Classifier  Boruta Feature Selection  0.200386  \\\n",
       "11  Neural Network Classifier             Full Features  0.666635   \n",
       "1            Ridge Classifier  Boruta Feature Selection  0.668311   \n",
       "0         Logistic Regression  Boruta Feature Selection  0.670963   \n",
       "6         Logistic Regression             Full Features  0.676038   \n",
       "7            Ridge Classifier             Full Features  0.681810   \n",
       "8    Random Forest Classifier             Full Features  0.799145   \n",
       "2    Random Forest Classifier  Boruta Feature Selection  0.810566   \n",
       "9    Decision Tree Classifier             Full Features  0.812721   \n",
       "3    Decision Tree Classifier  Boruta Feature Selection  0.817867   \n",
       "4          XGBoost Classifier  Boruta Feature Selection  0.818881   \n",
       "10         XGBoost Classifier             Full Features  0.826861   \n",
       "\n",
       "    Percentage diff (%)  Time Taken (s)   \n",
       "5                 -4.06       11.725361  \\\n",
       "11                 3.74       12.253017   \n",
       "1                  2.39        6.342736   \n",
       "0                  2.60       10.476599   \n",
       "6                  3.30        7.506152   \n",
       "7                  1.84        6.567730   \n",
       "8                 -0.41       14.545199   \n",
       "2                  1.54        9.841571   \n",
       "9                  2.09        7.726750   \n",
       "3                  1.91        6.491188   \n",
       "4                  2.16       13.158018   \n",
       "10                 1.44       12.195943   \n",
       "\n",
       "                                 Best Hyperparameters  \n",
       "5   {'alpha': 0.012821386062062406, 'random_state'...  \n",
       "11  {'alpha': 0.0009260248057520602, 'random_state...  \n",
       "1     {'alpha': 3.970742395266713, 'random_state': 1}  \n",
       "0       {'C': 74.17596170159602, 'random_state': 100}  \n",
       "6         {'C': 9.117119119604657, 'random_state': 1}  \n",
       "7   {'alpha': 0.02923553521649806, 'random_state':...  \n",
       "8          {'n_estimators': 185, 'random_state': 512}  \n",
       "2           {'n_estimators': 10, 'random_state': 512}  \n",
       "9               {'max_depth': 6, 'random_state': 512}  \n",
       "3               {'max_depth': 6, 'random_state': 256}  \n",
       "4   {'learning_rate': 0.01709840203542368, 'n_esti...  \n",
       "10  {'learning_rate': 0.01709840203542368, 'n_esti...  "
      ]
     },
     "execution_count": 13,
     "metadata": {},
     "output_type": "execute_result"
    }
   ],
   "source": [
    "# View output \n",
    "results_df = pd.DataFrame(results).sort_values(by='F1 Score', ascending=True)\n",
    "results_df"
   ]
  },
  {
   "cell_type": "markdown",
   "id": "7bd038b7-d783-41d4-82a1-03b018bed7ea",
   "metadata": {},
   "source": [
    "Decision Tree Classifier (Boruta Feature Selection) is selected as: \n",
    "- Using lesser deatures (Boruta Feature Selection) returns around the same F1-score with full features \n",
    "- Has a lesser percentage difference for test and validation F1-score than XGBoost Classifier\n",
    "- A high F1-score of 0.818 suggests the model is achieving a good balance between making accurate positive predictions and not missing too many actual positive cases"
   ]
  },
  {
   "cell_type": "markdown",
   "id": "e9b93bc7-0b43-4aaf-8fa2-8e9f43ee8c1f",
   "metadata": {},
   "source": [
    "### Model selection & export"
   ]
  },
  {
   "cell_type": "code",
   "execution_count": 14,
   "id": "4deb5435-e952-40e8-ac29-bd05d2107cc5",
   "metadata": {},
   "outputs": [
    {
     "name": "stdout",
     "output_type": "stream",
     "text": [
      "F1 test score: 0.82\n",
      "F1 test valid score: 0.84\n"
     ]
    }
   ],
   "source": [
    "# Train the selected champion model \n",
    "hyperparameters = {\n",
    "    'max_depth': 6,\n",
    "    'random_state': 256\n",
    "}\n",
    "\n",
    "dt_classifier = DecisionTreeClassifier(**hyperparameters)\n",
    "dt_classifier.fit(X_train.loc[:, selected_features], y_train)\n",
    "\n",
    "y_pred = dt_classifier.predict(X_test.loc[:, selected_features])\n",
    "y_pred_val = dt_classifier.predict(X_val.loc[:, selected_features])\n",
    "dt_classifier.fit(X_train.loc[:, selected_features], y_train)\n",
    "\n",
    "y_pred = dt_classifier.predict(X_test.loc[:, selected_features])\n",
    "y_pred_val = dt_classifier.predict(X_val.loc[:, selected_features])\n",
    "\n",
    "f1 = f1_score(y_test, y_pred, average='weighted')\n",
    "f1_val = f1_score(y_val, y_pred_val, average='weighted')\n",
    "print(f\"F1 test score: {f1:.2f}\\nF1 test valid score: {f1_val:.2f}\")"
   ]
  },
  {
   "cell_type": "code",
   "execution_count": 15,
   "id": "5ee908cd-cb3a-4093-af83-4bfdce7b9290",
   "metadata": {},
   "outputs": [
    {
     "data": {
      "text/plain": [
       "array([[1.000e+00, 0.000e+00, 1.000e+00, 2.015e+03, 2.000e+00],\n",
       "       [0.000e+00, 1.000e+00, 0.000e+00, 2.013e+03, 3.000e+00],\n",
       "       [1.000e+00, 1.000e+00, 1.000e+00, 2.015e+03, 2.000e+00],\n",
       "       ...,\n",
       "       [0.000e+00, 1.000e+00, 0.000e+00, 2.015e+03, 3.000e+00],\n",
       "       [0.000e+00, 1.000e+00, 0.000e+00, 2.017e+03, 3.000e+00],\n",
       "       [0.000e+00, 1.000e+00, 0.000e+00, 2.014e+03, 3.000e+00]])"
      ]
     },
     "execution_count": 15,
     "metadata": {},
     "output_type": "execute_result"
    }
   ],
   "source": [
    "# Fit transform dictvectorizer (using features that has been selected via boruta feature selection)\n",
    "dv_export = DictVectorizer(sparse=False)\n",
    "dv_export.fit_transform(X_train.loc[:, selected_features].to_dict(orient='records'))"
   ]
  },
  {
   "cell_type": "code",
   "execution_count": 16,
   "id": "16a96b48-b29f-4e2d-9b27-5cbe883eb00f",
   "metadata": {},
   "outputs": [
    {
     "data": {
      "text/plain": [
       "['model.bin']"
      ]
     },
     "execution_count": 16,
     "metadata": {},
     "output_type": "execute_result"
    }
   ],
   "source": [
    "# Export models & dictvectorizer\n",
    "joblib.dump(dv_export, 'dv.bin')\n",
    "joblib.dump(dt_classifier, 'model.bin')"
   ]
  }
 ],
 "metadata": {
  "kernelspec": {
   "display_name": "Python 3 (ipykernel)",
   "language": "python",
   "name": "python3"
  },
  "language_info": {
   "codemirror_mode": {
    "name": "ipython",
    "version": 3
   },
   "file_extension": ".py",
   "mimetype": "text/x-python",
   "name": "python",
   "nbconvert_exporter": "python",
   "pygments_lexer": "ipython3",
   "version": "3.9.12"
  }
 },
 "nbformat": 4,
 "nbformat_minor": 5
}
